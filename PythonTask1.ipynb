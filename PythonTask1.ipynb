{
 "cells": [
  {
   "cell_type": "code",
   "execution_count": 1,
   "id": "2c7d0c86-ee7e-4fb0-818c-a9b8b42421ea",
   "metadata": {},
   "outputs": [
    {
     "data": {
      "text/plain": [
       "'Q1. Create a function which will take a list as an argument and return the product of all the numbers\\nafter creating a flat list.\\nUse the below-given list as an argument for your function.\\nlist1 = [1,2,3,4, [44,55,66, True], False, (34,56,78,89,34), {1,2,3,3,2,1}, {1:34, \"key2\": [55, 67, 78, 89], 4: (45,\\n22, 61, 34)}, [56, \\'data science\\'], \\'Machine Learning\\']\\nNote: you must extract numeric keys and values of the dictionary also.'"
      ]
     },
     "execution_count": 1,
     "metadata": {},
     "output_type": "execute_result"
    }
   ],
   "source": [
    "'''Q1. Create a function which will take a list as an argument and return the product of all the numbers\n",
    "after creating a flat list.\n",
    "Use the below-given list as an argument for your function.\n",
    "list1 = [1,2,3,4, [44,55,66, True], False, (34,56,78,89,34), {1,2,3,3,2,1}, {1:34, \"key2\": [55, 67, 78, 89], 4: (45,\n",
    "22, 61, 34)}, [56, 'data science'], 'Machine Learning']\n",
    "Note: you must extract numeric keys and values of the dictionary also.'''"
   ]
  },
  {
   "cell_type": "code",
   "execution_count": 2,
   "id": "f98c5489-2564-4273-894d-2711b7428081",
   "metadata": {},
   "outputs": [
    {
     "name": "stdout",
     "output_type": "stream",
     "text": [
      "1 2 3 4 [44, 55, 66, True] False (34, 56, 78, 89, 34) {1, 2, 3} {1: 34, 'key2': [55, 67, 78, 89], 4: (45, 22, 61, 34)} [56, 'data science'] Machine Learning "
     ]
    }
   ],
   "source": [
    "list1 = [1,2,3,4, [44,55,66, True], False, (34,56,78,89,34), {1,2,3,3,2,1}, {1:34, \"key2\": [55, 67, 78, 89], 4: (45,\n",
    "22, 61, 34)}, [56, 'data science'], 'Machine Learning']\n",
    "\n",
    "for i in list1:\n",
    "    print(i,end=' ')\n",
    "\n",
    "\n"
   ]
  },
  {
   "cell_type": "code",
   "execution_count": 3,
   "id": "1bb86b72-1c9a-47a7-85ea-5159369b019b",
   "metadata": {},
   "outputs": [
    {
     "data": {
      "text/plain": [
       "[1,\n",
       " 2,\n",
       " 3,\n",
       " 4,\n",
       " [44, 55, 66, True],\n",
       " False,\n",
       " (34, 56, 78, 89, 34),\n",
       " {1, 2, 3},\n",
       " {1: 34, 'key2': [55, 67, 78, 89], 4: (45, 22, 61, 34)},\n",
       " [56, 'data science'],\n",
       " 'Machine Learning']"
      ]
     },
     "execution_count": 3,
     "metadata": {},
     "output_type": "execute_result"
    }
   ],
   "source": [
    "list1"
   ]
  },
  {
   "cell_type": "code",
   "execution_count": 6,
   "id": "6b2d6ca7-5116-459e-af9b-c069e23b3169",
   "metadata": {},
   "outputs": [
    {
     "data": {
      "text/plain": [
       "[1,\n",
       " 2,\n",
       " 3,\n",
       " 4,\n",
       " 44,\n",
       " 55,\n",
       " 66,\n",
       " True,\n",
       " False,\n",
       " 34,\n",
       " 56,\n",
       " 78,\n",
       " 89,\n",
       " 34,\n",
       " 1,\n",
       " 2,\n",
       " 3,\n",
       " 1,\n",
       " 'key2',\n",
       " 4,\n",
       " 34,\n",
       " 55,\n",
       " 67,\n",
       " 78,\n",
       " 89,\n",
       " 45,\n",
       " 22,\n",
       " 61,\n",
       " 34,\n",
       " 56,\n",
       " 'data science',\n",
       " 'Machine Learning']"
      ]
     },
     "execution_count": 6,
     "metadata": {},
     "output_type": "execute_result"
    }
   ],
   "source": [
    "def flatten(nested_list):\n",
    "    \"\"\"Flatten a nested list.\"\"\"\n",
    "    flat_list = []\n",
    "    for item in nested_list:\n",
    "        if isinstance(item, list):        # Check if the item is a list\n",
    "            flat_list.extend(flatten(item))  # Recursively flatten the list\n",
    "        elif isinstance(item, tuple):     # Check if the item is a tuple\n",
    "            flat_list.extend(flatten(list(item)))  # Convert tuple to list and flatten\n",
    "        elif isinstance(item, set):       # Check if the item is a set\n",
    "            flat_list.extend(flatten(list(item)))  # Convert set to list and flatten\n",
    "        elif isinstance(item, dict):      # Check if the item is a dictionary\n",
    "            # Flatten dictionary keys and values\n",
    "            flat_list.extend(flatten(list(item.keys())))\n",
    "            flat_list.extend(flatten(list(item.values())))\n",
    "        else:\n",
    "            flat_list.append(item)  # Add non-nested items directly\n",
    "    return flat_list\n",
    "list1 = [1, 2, 3, 4, [44, 55, 66, True], False, (34, 56, 78, 89, 34), {1, 2, 3, 3, 2, 1}, {1: 34, \"key2\": [55, 67, 78, 89], 4: (45, 22, 61, 34)}, [56, 'data science'], 'Machine Learning']\n",
    "l=flatten(list1)\n",
    "l"
   ]
  },
  {
   "cell_type": "code",
   "execution_count": 14,
   "id": "dbeada77-2341-472f-bd18-d450ab4254c1",
   "metadata": {},
   "outputs": [
    {
     "name": "stdout",
     "output_type": "stream",
     "text": [
      "4134711838987085478833841242112000\n"
     ]
    }
   ],
   "source": [
    "\n",
    "l\n",
    "product = 1\n",
    "for i in l:\n",
    "    if isinstance(i, (int, float)) and type(i)!=bool: \n",
    "        #print(i,end=' ')# Check if the item is a number\n",
    "        product *= i\n",
    "\n",
    "print(product)"
   ]
  },
  {
   "cell_type": "code",
   "execution_count": 15,
   "id": "385ec6a5-e26a-4b52-b3dd-005fad850c41",
   "metadata": {},
   "outputs": [
    {
     "data": {
      "text/plain": [
       "'Q2. Write a python program for encrypting a message sent to you by your friend. The logic of encryption\\nshould be such that, for a the output should be z. For b, the output should be y. For c, the output should\\nbe x respectively. Also, the whitespace should be replaced with a dollar sign. Keep the punctuation\\nmarks unchanged.\\nInput Sentence: I want to become a Data Scientist.\\nEncrypt the above input sentence using the program you just created.\\nNote: Convert the given input sentence into lowercase before encrypting. The final output should be\\nlowercase.'"
      ]
     },
     "execution_count": 15,
     "metadata": {},
     "output_type": "execute_result"
    }
   ],
   "source": [
    "'''Q2. Write a python program for encrypting a message sent to you by your friend. The logic of encryption\n",
    "should be such that, for a the output should be z. For b, the output should be y. For c, the output should\n",
    "be x respectively. Also, the whitespace should be replaced with a dollar sign. Keep the punctuation\n",
    "marks unchanged.\n",
    "Input Sentence: I want to become a Data Scientist.\n",
    "Encrypt the above input sentence using the program you just created.\n",
    "Note: Convert the given input sentence into lowercase before encrypting. The final output should be\n",
    "lowercase.'''\n",
    "#a=z,  b=y, c=x,d=w,e=v,f=u,g=t,h=s,i=r,j=q,k=p,l=o,m=n,' '=$"
   ]
  },
  {
   "cell_type": "code",
   "execution_count": 26,
   "id": "be536687-a8f1-4729-95b7-f7d8537fc97d",
   "metadata": {},
   "outputs": [
    {
     "name": "stdin",
     "output_type": "stream",
     "text": [
      "Enter the string you want to encrypt I want to become a Data Scientist.\n"
     ]
    },
    {
     "data": {
      "text/plain": [
       "'r$dzmg$gl$yvxlnv$z$wzgz$hxrvmgrhg'"
      ]
     },
     "execution_count": 26,
     "metadata": {},
     "output_type": "execute_result"
    }
   ],
   "source": [
    "string=str(input(\"Enter the string you want to encrypt\"))\n",
    "string=string.lower()\n",
    "res =\"\"\n",
    "for i in string:\n",
    "    if i=='a' or i=='z':\n",
    "        if i=='a':\n",
    "           res=res + i.replace('a','z')\n",
    "        else:\n",
    "           res=res + i.replace('z','a')\n",
    "    elif i=='b' or i=='y':\n",
    "        if i=='b':\n",
    "           res= res +i.replace('b','y')\n",
    "        else:\n",
    "           res= res +i.replace('y','b')\n",
    "    elif i=='c' or i=='x':\n",
    "        if i=='c':\n",
    "           res=res + i.replace('c','x')\n",
    "        else:\n",
    "           res= res +i.replace('x','c')\n",
    "    elif i=='d' or i=='w':\n",
    "        if i=='d':\n",
    "            res=res +i.replace('d','w')\n",
    "        else:\n",
    "            res=res +i.replace('w','d')\n",
    "    elif i=='e' or i=='v':\n",
    "        if i=='e':\n",
    "            res=res +i.replace('e','v')\n",
    "        else:\n",
    "            res=res +i.replace('v','e')\n",
    "    elif i=='f' or i=='u':\n",
    "        if i=='f':\n",
    "            res=res +i.replace('f','u')\n",
    "        else:\n",
    "            res=res +i.replace('u','f')\n",
    "    elif i=='g' or i=='t':\n",
    "        if i=='g':\n",
    "            res=res +i.replace('g','t')\n",
    "        else:\n",
    "            res=res +i.replace('t','g') \n",
    "    elif i=='h' or i=='s':\n",
    "        if i=='h':\n",
    "            res=res +i.replace('h','s')\n",
    "        else:\n",
    "            res=res +i.replace('s','h') \n",
    "    elif i=='i' or i=='r':\n",
    "        if i=='i':\n",
    "            res=res +i.replace('i','r')\n",
    "        else:\n",
    "            res=res +i.replace('r','i') \n",
    "    elif i=='j' or i=='q':\n",
    "        if i=='j':\n",
    "            res=res +i.replace('j','q')\n",
    "        else:\n",
    "            res=res +i.replace('q','j') \n",
    "    elif i=='k' or i=='p':\n",
    "        if i=='k':\n",
    "            res=res +i.replace('k','p')\n",
    "        else:\n",
    "            res =res + i.replace('p','k')          \n",
    "    elif i=='l' or i=='o':\n",
    "        if i=='l':\n",
    "            res=res +i.replace('l','o')\n",
    "        else:\n",
    "            res =res +i.replace('o','l')\n",
    "    elif i=='m' or i=='n':\n",
    "        if i=='m':\n",
    "            res=res +i.replace('m','n')\n",
    "        else:\n",
    "            res=res +i.replace('n','m')\n",
    "    elif i==' ':\n",
    "        res=res +i.replace(' ','$')\n",
    "    else:\n",
    "        i==res +i\n",
    "        \n",
    "        \n",
    "#I want to become a Data Scientist.           \n",
    "res        "
   ]
  },
  {
   "cell_type": "code",
   "execution_count": 24,
   "id": "36fff9a1-4866-4fb7-b092-b98041d931a3",
   "metadata": {},
   "outputs": [],
   "source": [
    "#optimize solution\n",
    "#a=z,  b=y, c=x,d=w,e=v,f=u,g=t,h=s,i=r,j=q,k=p,l=o,m=n,' '=$"
   ]
  },
  {
   "cell_type": "code",
   "execution_count": 28,
   "id": "dfd924bb-4b03-4f14-b2ff-5990d703e2b1",
   "metadata": {},
   "outputs": [
    {
     "name": "stdout",
     "output_type": "stream",
     "text": [
      "Encrypted message: r$dzmg$gl$yvxlnv$z$wzgz$hxrvmgrhg.\n"
     ]
    }
   ],
   "source": [
    "def encrypt_message(message):\n",
    "    \n",
    "    message = message.lower()\n",
    "    \n",
    "   \n",
    "    replacements = {\n",
    "        'a' : 'z',\n",
    "        'b' : 'y',\n",
    "        'c' : 'x',\n",
    "        'd' : 'w',\n",
    "        'e' : 'v',\n",
    "        'f' : 'u',\n",
    "        'g' : 't',\n",
    "        'h' : 's',\n",
    "        'i' : 'r',\n",
    "        'j' : 'q',\n",
    "        'k' : 'p',\n",
    "        'l' : 'o',\n",
    "        'm' : 'n',\n",
    "        'n' : 'm',\n",
    "        'o' : 'l',\n",
    "        'p' : 'k',\n",
    "        'q' : 'j',\n",
    "        'r' : 'i',\n",
    "        's' : 'h',\n",
    "        't' : 'g',\n",
    "        'u' : 'f',\n",
    "        'v' : 'e',\n",
    "        'w' : 'd',\n",
    "        'x' : 'c',\n",
    "        'y' : 'b',\n",
    "        'z' : 'a',\n",
    "        ' ': '$'\n",
    "    }\n",
    "    \n",
    "    \n",
    "    encrypted_message = ''.join(replacements.get(char, char) for char in message)\n",
    "    \n",
    "    return encrypted_message\n",
    "\n",
    "\n",
    "input_sentence = \"I want to become a Data Scientist.\"\n",
    "encrypted_sentence = encrypt_message(input_sentence)\n",
    "print(\"Encrypted message:\", encrypted_sentence)\n"
   ]
  },
  {
   "cell_type": "code",
   "execution_count": null,
   "id": "83bf6ce2-5e7f-4bd1-affa-1c4fc7ad7a34",
   "metadata": {},
   "outputs": [],
   "source": []
  },
  {
   "cell_type": "code",
   "execution_count": null,
   "id": "cad6d0fb-e157-4a07-ba51-fc7824870b58",
   "metadata": {},
   "outputs": [],
   "source": []
  }
 ],
 "metadata": {
  "kernelspec": {
   "display_name": "Python 3 (ipykernel)",
   "language": "python",
   "name": "python3"
  },
  "language_info": {
   "codemirror_mode": {
    "name": "ipython",
    "version": 3
   },
   "file_extension": ".py",
   "mimetype": "text/x-python",
   "name": "python",
   "nbconvert_exporter": "python",
   "pygments_lexer": "ipython3",
   "version": "3.12.4"
  }
 },
 "nbformat": 4,
 "nbformat_minor": 5
}
